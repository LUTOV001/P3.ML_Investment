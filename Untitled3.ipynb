{
 "cells": [
  {
   "cell_type": "code",
   "execution_count": 1,
   "id": "4de288cc-cd6b-4c1e-a8e4-3c52f116892f",
   "metadata": {},
   "outputs": [],
   "source": [
    "import datetime\n",
    "from datetime import timedelta\n",
    "import numpy as np\n",
    "import pandas as pd\n",
    "import matplotlib.pyplot as plt\n",
    "import alpaca_trade_api as tradeapi"
   ]
  },
  {
   "cell_type": "code",
   "execution_count": 2,
   "id": "03cb5be7-eab9-4a14-a4f4-078bec295925",
   "metadata": {},
   "outputs": [],
   "source": [
    "class EMACrossoverBacktester:\n",
    "    def __init__(self, ticker, days_back):\n",
    "        self.ticker = ticker\n",
    "        self.days_back = days_back\n",
    "        self.api = tradeapi.REST('PKTBC9ODTMX9TPDGDP9G', 'gisYEXw1DEoKMbkK3xhGyRbUeNOsB6SJmhljkkOQ', base_url='https://paper-api.alpaca.markets')\n",
    "        self.start_date = (datetime.datetime.now() - datetime.timedelta(days=days_back))\n",
    "        self.start_date = self.start_date.strftime('%Y-%m-%d')\n",
    "        self.timeframes = ['5D', '10D', '15D', '20D', '30D', '50D']\n",
    "        self.best_ema_s = None\n",
    "        self.best_ema_l = None"
   ]
  },
  {
   "cell_type": "code",
   "execution_count": 6,
   "id": "0f7cd209-ca7f-40d5-a5a4-591453dbf784",
   "metadata": {},
   "outputs": [
    {
     "ename": "NameError",
     "evalue": "name 'data' is not defined",
     "output_type": "error",
     "traceback": [
      "\u001b[1;31m---------------------------------------------------------------------------\u001b[0m",
      "\u001b[1;31mNameError\u001b[0m                                 Traceback (most recent call last)",
      "\u001b[1;32m~\\AppData\\Local\\Temp\\ipykernel_15472\\1988735686.py\u001b[0m in \u001b[0;36m<module>\u001b[1;34m\u001b[0m\n\u001b[0;32m      9\u001b[0m    \u001b[1;32mreturn\u001b[0m \u001b[0mtrain_data\u001b[0m\u001b[1;33m,\u001b[0m \u001b[0mtest_data\u001b[0m\u001b[1;33m\u001b[0m\u001b[1;33m\u001b[0m\u001b[0m\n\u001b[0;32m     10\u001b[0m \u001b[1;33m\u001b[0m\u001b[0m\n\u001b[1;32m---> 11\u001b[1;33m \u001b[0mdisplay\u001b[0m\u001b[1;33m(\u001b[0m\u001b[0mdata\u001b[0m\u001b[1;33m)\u001b[0m\u001b[1;33m\u001b[0m\u001b[1;33m\u001b[0m\u001b[0m\n\u001b[0m",
      "\u001b[1;31mNameError\u001b[0m: name 'data' is not defined"
     ]
    }
   ],
   "source": [
    "     def get_data(self, timeframe, train_size=0.7):\n",
    "        end_date = datetime.datetime.now() - datetime.timedelta(days=1)  # Subtract one day from the current date\n",
    "        end_date = end_date.strftime('%Y-%m-%d')\n",
    "        bars = self.api.get_bars(self.ticker, timeframe, start=self.start_date, end=end_date).df\n",
    "        data = pd.DataFrame(bars['close'])  # Select the 'close' column\n",
    "        data['returns'] = data['close'].pct_change()  # Calculate the 'returns' column\n",
    "        train_data = data[:int(train_size * len(data))]\n",
    "        test_data = data[int(train_size * len(data)):]\n",
    "        return train_data, test_data\n",
    "    \n",
    "display(data)"
   ]
  },
  {
   "cell_type": "code",
   "execution_count": null,
   "id": "ade010a7-6b7b-4432-88d2-8f5dbc60594e",
   "metadata": {},
   "outputs": [],
   "source": []
  }
 ],
 "metadata": {
  "kernelspec": {
   "display_name": "Python 3 (ipykernel)",
   "language": "python",
   "name": "python3"
  },
  "language_info": {
   "codemirror_mode": {
    "name": "ipython",
    "version": 3
   },
   "file_extension": ".py",
   "mimetype": "text/x-python",
   "name": "python",
   "nbconvert_exporter": "python",
   "pygments_lexer": "ipython3",
   "version": "3.7.12"
  }
 },
 "nbformat": 4,
 "nbformat_minor": 5
}
