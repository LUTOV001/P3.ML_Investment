{
 "cells": [
  {
   "cell_type": "markdown",
   "id": "c07e4b0c-3ee0-4566-ab99-34e52d482bfd",
   "metadata": {},
   "source": [
    "    # Functions for calculations\n",
    "def calculate_ema(stock_df, window):\n",
    "    return stock_df['Close'].ewm(span=window, adjust=False).mean()\n",
    "\n",
    "def backtest_crossover_strategy(stock_df, short_window, long_window):\n",
    "    short_ema = calculate_ema(stock_df, short_window)\n",
    "    long_ema = calculate_ema(stock_df, long_window)\n",
    "\n",
    "    # Buy signal: when short EMA crosses above long EMA\n",
    "    stock_df['Buy Signal'] = (short_ema > long_ema) & (short_ema.shift(1) <= long_ema.shift(1))\n",
    "\n",
    "    # Sell signal: when short EMA crosses below long EMA\n",
    "    stock_df['Sell Signal'] = (short_ema < long_ema) & (short_ema.shift(1) >= long_ema.shift(1))\n",
    "\n",
    "    # Assume starting with cash, so the first signal should be a buy\n",
    "    initial_position = \"cash\"\n",
    "    positions = [initial_position]\n",
    "\n",
    "    for i in range(1, len(stock_df)):\n",
    "        if stock_df['Buy Signal'].iloc[i]:\n",
    "            positions.append(\"stock\")\n",
    "        elif stock_df['Sell Signal'].iloc[i]:\n",
    "            positions.append(\"cash\")\n",
    "        else:\n",
    "            positions.append(positions[-1])\n",
    "\n",
    "    stock_df['Position'] = positions\n",
    "    \n",
    "    # Calculate returns\n",
    "    stock_df['Daily Strategy Return'] = np.where(stock_df['Position'] == \"stock\", stock_df['Close'].pct_change(), 0)\n",
    "    total_strategy_return = (stock_df['Daily Strategy Return'] + 1).prod()\n",
    "    return total_strategy_return\n",
    "    \n",
    "\n",
    "# test strategy    \n",
    "short_window = 40  # or any value you'd like to use\n",
    "long_window = 100  # or any value you'd like to use\n",
    "\n",
    "total_strategy_return = backtest_crossover_strategy(stock_df, short_window, long_window)\n",
    "stock_df.to_csv('ema_crossover.csv', index=False)\n",
    "total_strategy_return = 100*(total_strategy_return-1)\n",
    "print(f\"Total return of EMA Crossover Strategy: {total_strategy_return:.2f}%\")"
   ]
  }
 ],
 "metadata": {
  "kernelspec": {
   "display_name": "Python 3 (ipykernel)",
   "language": "python",
   "name": "python3"
  },
  "language_info": {
   "codemirror_mode": {
    "name": "ipython",
    "version": 3
   },
   "file_extension": ".py",
   "mimetype": "text/x-python",
   "name": "python",
   "nbconvert_exporter": "python",
   "pygments_lexer": "ipython3",
   "version": "3.7.12"
  }
 },
 "nbformat": 4,
 "nbformat_minor": 5
}
